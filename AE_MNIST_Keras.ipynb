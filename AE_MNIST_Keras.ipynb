{
  "nbformat": 4,
  "nbformat_minor": 0,
  "metadata": {
    "colab": {
      "name": "AE_MNIST_Keras.ipynb",
      "provenance": [],
      "collapsed_sections": [],
      "include_colab_link": true
    },
    "language_info": {
      "codemirror_mode": {
        "name": "ipython",
        "version": 2
      },
      "file_extension": ".py",
      "mimetype": "text/x-python",
      "name": "python",
      "nbconvert_exporter": "python",
      "pygments_lexer": "ipython2",
      "version": "2.7.13"
    },
    "kernelspec": {
      "display_name": "Python 2",
      "language": "python",
      "name": "python2"
    }
  },
  "cells": [
    {
      "cell_type": "markdown",
      "metadata": {
        "id": "view-in-github",
        "colab_type": "text"
      },
      "source": [
        "<a href=\"https://colab.research.google.com/github/sznajder/Lectures/blob/master/AE_MNIST_Keras.ipynb\" target=\"_parent\"><img src=\"https://colab.research.google.com/assets/colab-badge.svg\" alt=\"Open In Colab\"/></a>"
      ]
    },
    {
      "cell_type": "markdown",
      "metadata": {
        "id": "_bQSW4odncGr",
        "colab_type": "text"
      },
      "source": [
        "**AUTOENCODER on MNIST digits**"
      ]
    },
    {
      "cell_type": "code",
      "metadata": {
        "id": "6Ku2q5Iz0Ukw",
        "colab_type": "code",
        "outputId": "128cabf0-1ade-4599-ebcc-7df9b3013a35",
        "colab": {
          "base_uri": "https://localhost:8080/",
          "height": 51
        }
      },
      "source": [
        "from IPython.display import Image, SVG\n",
        "import matplotlib.pyplot as plt\n",
        "import numpy as np\n",
        "import keras\n",
        "from keras.datasets import mnist\n",
        "from keras.models import Model, Sequential\n",
        "from keras.layers import Input, Dense, Conv2D, MaxPooling2D, UpSampling2D, Flatten, Reshape\n",
        "from keras import regularizers\n",
        "from keras.callbacks import History\n",
        "from keras.callbacks import TensorBoard\n",
        "from time import gmtime, strftime\n",
        "#################################################\n",
        "#\n",
        "print \"Started processing autoencoder at:\", strftime(\"%Y-%m-%d %H:%M:%S\", gmtime())\n",
        "#\n",
        "# Set training parameters\n",
        "nepochs = 5\n",
        "batchsize = 500\n",
        "\n",
        "# AUTOENCODER( ENCODER-DECODER ) MODEL\n",
        "\n",
        "# prepare our input data using MNIST digits discarding the labels (since we're only interested in encoding/decoding the input images)\n",
        "# Loads the training and test data sets (ignoring class labels)\n",
        "#(x_train, _), (x_test, _) = mnist.load_data()\n",
        "(x_train, y_train), (x_test, y_test) = mnist.load_data()\n",
        "\n",
        "# Scales the training and test data to range between 0 and 1.\n",
        "max_value = float(x_train.max())\n",
        "x_train = x_train.astype('float32') / max_value\n",
        "x_test = x_test.astype('float32') / max_value\n",
        "\n",
        "# Data set consists 3D arrays with 60K training and 10K test images.\n",
        "# with a resolution of 28 x 28 (pixels).\n",
        "x_train.shape, x_test.shape\n",
        "# ((60000, 28, 28), (10000, 28, 28))\n",
        "# Reshape the 28 x 28 images into vectors of length 784\n",
        "x_train = x_train.reshape((len(x_train), np.prod(x_train.shape[1:])))\n",
        "x_test = x_test.reshape((len(x_test), np.prod(x_test.shape[1:])))\n",
        "(x_train.shape, x_test.shape)\n",
        "# ((60000, 784), (10000, 784))\n",
        "\n"
      ],
      "execution_count": 13,
      "outputs": [
        {
          "output_type": "stream",
          "text": [
            "Started processing autoencoder at: 2019-11-14 11:21:50\n"
          ],
          "name": "stdout"
        },
        {
          "output_type": "execute_result",
          "data": {
            "text/plain": [
              "((60000, 784), (10000, 784))"
            ]
          },
          "metadata": {
            "tags": []
          },
          "execution_count": 13
        }
      ]
    },
    {
      "cell_type": "markdown",
      "metadata": {
        "id": "jH6mwCJtmfys",
        "colab_type": "text"
      },
      "source": [
        "**Define the Autoencoder, Encoder and Decoder separetly**"
      ]
    },
    {
      "cell_type": "code",
      "metadata": {
        "id": "w6tq7LV_mgZM",
        "colab_type": "code",
        "colab": {
          "base_uri": "https://localhost:8080/",
          "height": 1000
        },
        "outputId": "cd6903e8-bc77-41d0-f4b2-1472699e1e75"
      },
      "source": [
        "# this is the size of our encoded representations\n",
        "# input dimension = 784\n",
        "input_dim = x_train.shape[1]\n",
        "encoding_dim = 32\n",
        "compression_factor = float(input_dim) / encoding_dim\n",
        "print(\"Compression factor: %s\" % compression_factor)\n",
        "\n",
        "# this is our input placeholder\n",
        "input_img = Input(shape=(784,))\n",
        "\n",
        "autoencoder = Sequential()\n",
        "\n",
        "# Encoder Layers\n",
        "autoencoder.add(Dense(4 * encoding_dim, input_shape=(input_dim,), activation='relu'))\n",
        "autoencoder.add(Dense(2 * encoding_dim, activation='relu'))\n",
        "autoencoder.add(Dense(encoding_dim, activation='relu'))\n",
        "\n",
        "# Decoder Layers\n",
        "autoencoder.add(Dense(2 * encoding_dim, activation='relu'))\n",
        "autoencoder.add(Dense(4 * encoding_dim, activation='relu'))\n",
        "autoencoder.add(Dense(input_dim, activation='sigmoid'))\n",
        "autoencoder.summary()\n",
        "\n",
        "####################################################\n",
        "\n",
        "# ENCODER MODEL\n",
        "input_img = Input(shape=(input_dim,))\n",
        "encoder_layer1 = autoencoder.layers[0]\n",
        "encoder_layer2 = autoencoder.layers[1]\n",
        "encoder_layer3 = autoencoder.layers[2]\n",
        "encoder = Model(input_img, encoder_layer3(encoder_layer2(encoder_layer1(input_img))))\n",
        "encoder.summary()\n",
        "\n",
        "# DECODER MODEL\n",
        "encoded_img = Input(shape=(encoding_dim,))\n",
        "decoder_layer1 = autoencoder.layers[3]\n",
        "decoder_layer2 = autoencoder.layers[4]\n",
        "decoder_layer3 = autoencoder.layers[5]\n",
        "decoder = Model(encoded_img, decoder_layer3(decoder_layer2(decoder_layer1(encoded_img))))\n",
        "decoder.summary()\n",
        "\n",
        "#####################################################\n",
        "\n",
        "# Plot network topology/model\n",
        "#plot_model(autoencoder, to_file='model.png', show_shapes=True, show_layer_names=True)\n",
        "\n",
        "# TRAINING\n",
        "\n",
        "# configure our model to use a per-pixel binary crossentropy loss, and the Adadelta optimizer\n",
        "autoencoder.compile(optimizer='adam',\n",
        "                    loss='binary_crossentropy',\n",
        "                    metrics=[\"accuracy\"]\n",
        "                    )\n",
        "\n",
        "#  train our autoencoder\n",
        "auto = autoencoder.fit(x_train, x_train,\n",
        "                       epochs=nepochs,\n",
        "                       batch_size=batchsize,\n",
        "                       shuffle=True,\n",
        "                       validation_data=(x_test, x_test)\n",
        "                       )\n",
        "\n",
        "\n"
      ],
      "execution_count": 14,
      "outputs": [
        {
          "output_type": "stream",
          "text": [
            "Compression factor: 24.5\n",
            "_________________________________________________________________\n",
            "Layer (type)                 Output Shape              Param #   \n",
            "=================================================================\n",
            "dense_43 (Dense)             (None, 128)               100480    \n",
            "_________________________________________________________________\n",
            "dense_44 (Dense)             (None, 64)                8256      \n",
            "_________________________________________________________________\n",
            "dense_45 (Dense)             (None, 32)                2080      \n",
            "_________________________________________________________________\n",
            "dense_46 (Dense)             (None, 64)                2112      \n",
            "_________________________________________________________________\n",
            "dense_47 (Dense)             (None, 128)               8320      \n",
            "_________________________________________________________________\n",
            "dense_48 (Dense)             (None, 784)               101136    \n",
            "=================================================================\n",
            "Total params: 222,384\n",
            "Trainable params: 222,384\n",
            "Non-trainable params: 0\n",
            "_________________________________________________________________\n",
            "_________________________________________________________________\n",
            "Layer (type)                 Output Shape              Param #   \n",
            "=================================================================\n",
            "input_23 (InputLayer)        (None, 784)               0         \n",
            "_________________________________________________________________\n",
            "dense_43 (Dense)             (None, 128)               100480    \n",
            "_________________________________________________________________\n",
            "dense_44 (Dense)             (None, 64)                8256      \n",
            "_________________________________________________________________\n",
            "dense_45 (Dense)             (None, 32)                2080      \n",
            "=================================================================\n",
            "Total params: 110,816\n",
            "Trainable params: 110,816\n",
            "Non-trainable params: 0\n",
            "_________________________________________________________________\n",
            "_________________________________________________________________\n",
            "Layer (type)                 Output Shape              Param #   \n",
            "=================================================================\n",
            "input_24 (InputLayer)        (None, 32)                0         \n",
            "_________________________________________________________________\n",
            "dense_46 (Dense)             (None, 64)                2112      \n",
            "_________________________________________________________________\n",
            "dense_47 (Dense)             (None, 128)               8320      \n",
            "_________________________________________________________________\n",
            "dense_48 (Dense)             (None, 784)               101136    \n",
            "=================================================================\n",
            "Total params: 111,568\n",
            "Trainable params: 111,568\n",
            "Non-trainable params: 0\n",
            "_________________________________________________________________\n",
            "Train on 60000 samples, validate on 10000 samples\n",
            "Epoch 1/5\n",
            "60000/60000 [==============================] - 6s 106us/step - loss: 0.3022 - acc: 0.7739 - val_loss: 0.2180 - val_acc: 0.7938\n",
            "Epoch 2/5\n",
            "60000/60000 [==============================] - 5s 83us/step - loss: 0.1877 - acc: 0.7974 - val_loss: 0.1683 - val_acc: 0.8000\n",
            "Epoch 3/5\n",
            "60000/60000 [==============================] - 5s 83us/step - loss: 0.1590 - acc: 0.8029 - val_loss: 0.1476 - val_acc: 0.8040\n",
            "Epoch 4/5\n",
            "60000/60000 [==============================] - 5s 83us/step - loss: 0.1427 - acc: 0.8064 - val_loss: 0.1359 - val_acc: 0.8064\n",
            "Epoch 5/5\n",
            "60000/60000 [==============================] - 5s 84us/step - loss: 0.1348 - acc: 0.8079 - val_loss: 0.1306 - val_acc: 0.8079\n"
          ],
          "name": "stdout"
        }
      ]
    },
    {
      "cell_type": "markdown",
      "metadata": {
        "id": "bNAD9z6WmoUO",
        "colab_type": "text"
      },
      "source": [
        "**Plot the original and the decoded image**"
      ]
    },
    {
      "cell_type": "code",
      "metadata": {
        "id": "vDQalhT9mon9",
        "colab_type": "code",
        "colab": {
          "base_uri": "https://localhost:8080/",
          "height": 848
        },
        "outputId": "a80f745f-6851-45cd-ad02-e7554f018464"
      },
      "source": [
        "############################################################################\n",
        "# Visualize the reconstructed inputs and the encoded representations\n",
        "# encode and decode some digits ( note that we take them from the *test* set )\n",
        "\n",
        "# use Matplotlib\n",
        "\n",
        "num_images = 10\n",
        "np.random.seed(42)\n",
        "random_test_images = np.random.randint(x_test.shape[0], size=num_images)\n",
        "\n",
        "encoded_imgs = encoder.predict(x_test)\n",
        "#decoded_imgs = autoencoder.predict(x_test)\n",
        "decoded_imgs = decoder.predict(encoded_imgs)\n",
        "\n",
        "plt.figure(figsize=(18, 4))\n",
        "\n",
        "for i, image_idx in enumerate(random_test_images):\n",
        "    # plot original image\n",
        "    ax = plt.subplot(3, num_images, i + 1)\n",
        "    plt.imshow(x_test[image_idx].reshape(28, 28))\n",
        "    plt.gray()\n",
        "    ax.get_xaxis().set_visible(False)\n",
        "    ax.get_yaxis().set_visible(False)\n",
        "\n",
        "    # plot encoded image\n",
        "    ax = plt.subplot(3, num_images, num_images + i + 1)\n",
        "    plt.imshow(encoded_imgs[image_idx].reshape(8, 4))\n",
        "    plt.gray()\n",
        "    ax.get_xaxis().set_visible(False)\n",
        "    ax.get_yaxis().set_visible(False)\n",
        "\n",
        "    # plot reconstructed image\n",
        "    ax = plt.subplot(3, num_images, 2*num_images + i + 1)\n",
        "    plt.imshow(decoded_imgs[image_idx].reshape(28, 28))\n",
        "    plt.gray()\n",
        "    ax.get_xaxis().set_visible(False)\n",
        "    ax.get_yaxis().set_visible(False)\n",
        "plt.show()\n",
        "\n",
        "# Plot of the digit classes in the latent space\n",
        "#x_test_latent = encoder.predict(x_test, batch_size=batchsize)\n",
        "#plt.figure(figsize=(6, 6))\n",
        "#plt.scatter(x_test_latent[:, 0], x_test_latent[:, 1], c=y_test)\n",
        "#plt.colorbar()\n",
        "#plt.show()\n",
        "\n",
        "#####################################################\n",
        "\n",
        "# Plot training & validation accuracy values\n",
        "plt.plot(auto.history['acc'])\n",
        "plt.plot(auto.history['val_acc'])\n",
        "plt.title('Model accuracy')\n",
        "plt.ylabel('Accuracy')\n",
        "plt.xlabel('Epoch')\n",
        "plt.legend(['Train', 'Test'], loc='upper left')\n",
        "plt.show()\n",
        "\n",
        "# Plot training & validation loss values\n",
        "plt.plot(auto.history['loss'])\n",
        "plt.plot(auto.history['val_loss'])\n",
        "plt.title('Model loss')\n",
        "plt.ylabel('Loss')\n",
        "plt.xlabel('Epoch')\n",
        "plt.legend(['Train', 'Test'], loc='upper left')\n",
        "plt.show()\n",
        "#\n",
        "#####################################################################################\n",
        "#\n",
        "print \"Finished processing autoencoder at:\", strftime(\"%Y-%m-%d %H:%M:%S\", gmtime())\n",
        "#\n",
        "#"
      ],
      "execution_count": 15,
      "outputs": [
        {
          "output_type": "display_data",
          "data": {
            "image/png": "[encoded data removed]",
            "text/plain": [
              "<Figure size 1296x288 with 30 Axes>"
            ]
          },
          "metadata": {
            "tags": []
          }
        },
        {
          "output_type": "display_data",
          "data": {
            "image/png": "[encoded data removed]",
            "text/plain": [
              "<Figure size 432x288 with 1 Axes>"
            ]
          },
          "metadata": {
            "tags": []
          }
        },
        {
          "output_type": "display_data",
          "data": {
            "image/png": "[encoded data removed]",
            "text/plain": [
              "<Figure size 432x288 with 1 Axes>"
            ]
          },
          "metadata": {
            "tags": []
          }
        },
        {
          "output_type": "stream",
          "text": [
            "Finished processing autoencoder at: 2019-11-14 11:22:20\n"
          ],
          "name": "stdout"
        }
      ]
    }
  ]
}